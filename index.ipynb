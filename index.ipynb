{
 "cells": [
  {
   "cell_type": "markdown",
   "metadata": {},
   "source": [
    "# Ridge and Lasso Regression - Lab"
   ]
  },
  {
   "cell_type": "markdown",
   "metadata": {},
   "source": [
    "## Introduction"
   ]
  },
  {
   "cell_type": "markdown",
   "metadata": {},
   "source": [
    "In this lab, you'll practice your knowledge on Ridge and Lasso regression!"
   ]
  },
  {
   "cell_type": "markdown",
   "metadata": {},
   "source": [
    "## Objectives"
   ]
  },
  {
   "cell_type": "markdown",
   "metadata": {},
   "source": [
    "You will be able to:"
   ]
  },
  {
   "cell_type": "markdown",
   "metadata": {},
   "source": [
    "- Use Lasso and ridge regression in Python\n",
    "- Compare Lasso and Ridge with standard regression"
   ]
  },
  {
   "cell_type": "markdown",
   "metadata": {},
   "source": [
    "## Housing Prices Data"
   ]
  },
  {
   "cell_type": "markdown",
   "metadata": {},
   "source": [
    "Let's look at yet another house pricing data set."
   ]
  },
  {
   "cell_type": "code",
   "execution_count": 1,
   "metadata": {},
   "outputs": [],
   "source": [
    "import pandas as pd\n",
    "import warnings\n",
    "warnings.filterwarnings('ignore')\n",
    "\n",
    "df = pd.read_csv('Housing_Prices/train.csv')"
   ]
  },
  {
   "cell_type": "markdown",
   "metadata": {},
   "source": [
    "Look at df.info"
   ]
  },
  {
   "cell_type": "code",
   "execution_count": 2,
   "metadata": {},
   "outputs": [
    {
     "name": "stdout",
     "output_type": "stream",
     "text": [
      "<class 'pandas.core.frame.DataFrame'>\n",
      "RangeIndex: 1460 entries, 0 to 1459\n",
      "Data columns (total 81 columns):\n",
      "Id               1460 non-null int64\n",
      "MSSubClass       1460 non-null int64\n",
      "MSZoning         1460 non-null object\n",
      "LotFrontage      1201 non-null float64\n",
      "LotArea          1460 non-null int64\n",
      "Street           1460 non-null object\n",
      "Alley            91 non-null object\n",
      "LotShape         1460 non-null object\n",
      "LandContour      1460 non-null object\n",
      "Utilities        1460 non-null object\n",
      "LotConfig        1460 non-null object\n",
      "LandSlope        1460 non-null object\n",
      "Neighborhood     1460 non-null object\n",
      "Condition1       1460 non-null object\n",
      "Condition2       1460 non-null object\n",
      "BldgType         1460 non-null object\n",
      "HouseStyle       1460 non-null object\n",
      "OverallQual      1460 non-null int64\n",
      "OverallCond      1460 non-null int64\n",
      "YearBuilt        1460 non-null int64\n",
      "YearRemodAdd     1460 non-null int64\n",
      "RoofStyle        1460 non-null object\n",
      "RoofMatl         1460 non-null object\n",
      "Exterior1st      1460 non-null object\n",
      "Exterior2nd      1460 non-null object\n",
      "MasVnrType       1452 non-null object\n",
      "MasVnrArea       1452 non-null float64\n",
      "ExterQual        1460 non-null object\n",
      "ExterCond        1460 non-null object\n",
      "Foundation       1460 non-null object\n",
      "BsmtQual         1423 non-null object\n",
      "BsmtCond         1423 non-null object\n",
      "BsmtExposure     1422 non-null object\n",
      "BsmtFinType1     1423 non-null object\n",
      "BsmtFinSF1       1460 non-null int64\n",
      "BsmtFinType2     1422 non-null object\n",
      "BsmtFinSF2       1460 non-null int64\n",
      "BsmtUnfSF        1460 non-null int64\n",
      "TotalBsmtSF      1460 non-null int64\n",
      "Heating          1460 non-null object\n",
      "HeatingQC        1460 non-null object\n",
      "CentralAir       1460 non-null object\n",
      "Electrical       1459 non-null object\n",
      "1stFlrSF         1460 non-null int64\n",
      "2ndFlrSF         1460 non-null int64\n",
      "LowQualFinSF     1460 non-null int64\n",
      "GrLivArea        1460 non-null int64\n",
      "BsmtFullBath     1460 non-null int64\n",
      "BsmtHalfBath     1460 non-null int64\n",
      "FullBath         1460 non-null int64\n",
      "HalfBath         1460 non-null int64\n",
      "BedroomAbvGr     1460 non-null int64\n",
      "KitchenAbvGr     1460 non-null int64\n",
      "KitchenQual      1460 non-null object\n",
      "TotRmsAbvGrd     1460 non-null int64\n",
      "Functional       1460 non-null object\n",
      "Fireplaces       1460 non-null int64\n",
      "FireplaceQu      770 non-null object\n",
      "GarageType       1379 non-null object\n",
      "GarageYrBlt      1379 non-null float64\n",
      "GarageFinish     1379 non-null object\n",
      "GarageCars       1460 non-null int64\n",
      "GarageArea       1460 non-null int64\n",
      "GarageQual       1379 non-null object\n",
      "GarageCond       1379 non-null object\n",
      "PavedDrive       1460 non-null object\n",
      "WoodDeckSF       1460 non-null int64\n",
      "OpenPorchSF      1460 non-null int64\n",
      "EnclosedPorch    1460 non-null int64\n",
      "3SsnPorch        1460 non-null int64\n",
      "ScreenPorch      1460 non-null int64\n",
      "PoolArea         1460 non-null int64\n",
      "PoolQC           7 non-null object\n",
      "Fence            281 non-null object\n",
      "MiscFeature      54 non-null object\n",
      "MiscVal          1460 non-null int64\n",
      "MoSold           1460 non-null int64\n",
      "YrSold           1460 non-null int64\n",
      "SaleType         1460 non-null object\n",
      "SaleCondition    1460 non-null object\n",
      "SalePrice        1460 non-null int64\n",
      "dtypes: float64(3), int64(35), object(43)\n",
      "memory usage: 924.0+ KB\n"
     ]
    }
   ],
   "source": [
    "# Your code here\n",
    "df.info()"
   ]
  },
  {
   "cell_type": "markdown",
   "metadata": {},
   "source": [
    "First, make a selection of the data by removing some of the data with `dtype = object`, this way our first model only contains **continuous features**\n",
    "\n",
    "Make sure to remove the SalesPrice column from the predictors (which you store in `X`), then replace missing inputs by the median per feature.\n",
    "\n",
    "Store the target in `y`."
   ]
  },
  {
   "cell_type": "code",
   "execution_count": 4,
   "metadata": {},
   "outputs": [],
   "source": [
    "# Load necessary packages\n",
    "from sklearn.preprocessing import MinMaxScaler\n",
    "from sklearn.linear_model import Lasso, Ridge, LinearRegression"
   ]
  },
  {
   "cell_type": "code",
   "execution_count": 10,
   "metadata": {
    "scrolled": true
   },
   "outputs": [
    {
     "data": {
      "text/html": [
       "<div>\n",
       "<style scoped>\n",
       "    .dataframe tbody tr th:only-of-type {\n",
       "        vertical-align: middle;\n",
       "    }\n",
       "\n",
       "    .dataframe tbody tr th {\n",
       "        vertical-align: top;\n",
       "    }\n",
       "\n",
       "    .dataframe thead th {\n",
       "        text-align: right;\n",
       "    }\n",
       "</style>\n",
       "<table border=\"1\" class=\"dataframe\">\n",
       "  <thead>\n",
       "    <tr style=\"text-align: right;\">\n",
       "      <th></th>\n",
       "      <th>Id</th>\n",
       "      <th>MSSubClass</th>\n",
       "      <th>LotFrontage</th>\n",
       "      <th>LotArea</th>\n",
       "      <th>OverallQual</th>\n",
       "      <th>OverallCond</th>\n",
       "      <th>YearBuilt</th>\n",
       "      <th>YearRemodAdd</th>\n",
       "      <th>MasVnrArea</th>\n",
       "      <th>BsmtFinSF1</th>\n",
       "      <th>...</th>\n",
       "      <th>GarageArea</th>\n",
       "      <th>WoodDeckSF</th>\n",
       "      <th>OpenPorchSF</th>\n",
       "      <th>EnclosedPorch</th>\n",
       "      <th>3SsnPorch</th>\n",
       "      <th>ScreenPorch</th>\n",
       "      <th>PoolArea</th>\n",
       "      <th>MiscVal</th>\n",
       "      <th>MoSold</th>\n",
       "      <th>YrSold</th>\n",
       "    </tr>\n",
       "  </thead>\n",
       "  <tbody>\n",
       "    <tr>\n",
       "      <th>0</th>\n",
       "      <td>1</td>\n",
       "      <td>60</td>\n",
       "      <td>65.0</td>\n",
       "      <td>8450</td>\n",
       "      <td>7</td>\n",
       "      <td>5</td>\n",
       "      <td>2003</td>\n",
       "      <td>2003</td>\n",
       "      <td>196.0</td>\n",
       "      <td>706</td>\n",
       "      <td>...</td>\n",
       "      <td>548</td>\n",
       "      <td>0</td>\n",
       "      <td>61</td>\n",
       "      <td>0</td>\n",
       "      <td>0</td>\n",
       "      <td>0</td>\n",
       "      <td>0</td>\n",
       "      <td>0</td>\n",
       "      <td>2</td>\n",
       "      <td>2008</td>\n",
       "    </tr>\n",
       "    <tr>\n",
       "      <th>1</th>\n",
       "      <td>2</td>\n",
       "      <td>20</td>\n",
       "      <td>80.0</td>\n",
       "      <td>9600</td>\n",
       "      <td>6</td>\n",
       "      <td>8</td>\n",
       "      <td>1976</td>\n",
       "      <td>1976</td>\n",
       "      <td>0.0</td>\n",
       "      <td>978</td>\n",
       "      <td>...</td>\n",
       "      <td>460</td>\n",
       "      <td>298</td>\n",
       "      <td>0</td>\n",
       "      <td>0</td>\n",
       "      <td>0</td>\n",
       "      <td>0</td>\n",
       "      <td>0</td>\n",
       "      <td>0</td>\n",
       "      <td>5</td>\n",
       "      <td>2007</td>\n",
       "    </tr>\n",
       "    <tr>\n",
       "      <th>2</th>\n",
       "      <td>3</td>\n",
       "      <td>60</td>\n",
       "      <td>68.0</td>\n",
       "      <td>11250</td>\n",
       "      <td>7</td>\n",
       "      <td>5</td>\n",
       "      <td>2001</td>\n",
       "      <td>2002</td>\n",
       "      <td>162.0</td>\n",
       "      <td>486</td>\n",
       "      <td>...</td>\n",
       "      <td>608</td>\n",
       "      <td>0</td>\n",
       "      <td>42</td>\n",
       "      <td>0</td>\n",
       "      <td>0</td>\n",
       "      <td>0</td>\n",
       "      <td>0</td>\n",
       "      <td>0</td>\n",
       "      <td>9</td>\n",
       "      <td>2008</td>\n",
       "    </tr>\n",
       "    <tr>\n",
       "      <th>3</th>\n",
       "      <td>4</td>\n",
       "      <td>70</td>\n",
       "      <td>60.0</td>\n",
       "      <td>9550</td>\n",
       "      <td>7</td>\n",
       "      <td>5</td>\n",
       "      <td>1915</td>\n",
       "      <td>1970</td>\n",
       "      <td>0.0</td>\n",
       "      <td>216</td>\n",
       "      <td>...</td>\n",
       "      <td>642</td>\n",
       "      <td>0</td>\n",
       "      <td>35</td>\n",
       "      <td>272</td>\n",
       "      <td>0</td>\n",
       "      <td>0</td>\n",
       "      <td>0</td>\n",
       "      <td>0</td>\n",
       "      <td>2</td>\n",
       "      <td>2006</td>\n",
       "    </tr>\n",
       "    <tr>\n",
       "      <th>4</th>\n",
       "      <td>5</td>\n",
       "      <td>60</td>\n",
       "      <td>84.0</td>\n",
       "      <td>14260</td>\n",
       "      <td>8</td>\n",
       "      <td>5</td>\n",
       "      <td>2000</td>\n",
       "      <td>2000</td>\n",
       "      <td>350.0</td>\n",
       "      <td>655</td>\n",
       "      <td>...</td>\n",
       "      <td>836</td>\n",
       "      <td>192</td>\n",
       "      <td>84</td>\n",
       "      <td>0</td>\n",
       "      <td>0</td>\n",
       "      <td>0</td>\n",
       "      <td>0</td>\n",
       "      <td>0</td>\n",
       "      <td>12</td>\n",
       "      <td>2008</td>\n",
       "    </tr>\n",
       "  </tbody>\n",
       "</table>\n",
       "<p>5 rows × 37 columns</p>\n",
       "</div>"
      ],
      "text/plain": [
       "   Id  MSSubClass  LotFrontage  LotArea  OverallQual  OverallCond  YearBuilt  \\\n",
       "0   1          60         65.0     8450            7            5       2003   \n",
       "1   2          20         80.0     9600            6            8       1976   \n",
       "2   3          60         68.0    11250            7            5       2001   \n",
       "3   4          70         60.0     9550            7            5       1915   \n",
       "4   5          60         84.0    14260            8            5       2000   \n",
       "\n",
       "   YearRemodAdd  MasVnrArea  BsmtFinSF1   ...    GarageArea  WoodDeckSF  \\\n",
       "0          2003       196.0         706   ...           548           0   \n",
       "1          1976         0.0         978   ...           460         298   \n",
       "2          2002       162.0         486   ...           608           0   \n",
       "3          1970         0.0         216   ...           642           0   \n",
       "4          2000       350.0         655   ...           836         192   \n",
       "\n",
       "   OpenPorchSF  EnclosedPorch  3SsnPorch  ScreenPorch  PoolArea  MiscVal  \\\n",
       "0           61              0          0            0         0        0   \n",
       "1            0              0          0            0         0        0   \n",
       "2           42              0          0            0         0        0   \n",
       "3           35            272          0            0         0        0   \n",
       "4           84              0          0            0         0        0   \n",
       "\n",
       "   MoSold  YrSold  \n",
       "0       2    2008  \n",
       "1       5    2007  \n",
       "2       9    2008  \n",
       "3       2    2006  \n",
       "4      12    2008  \n",
       "\n",
       "[5 rows x 37 columns]"
      ]
     },
     "execution_count": 10,
     "metadata": {},
     "output_type": "execute_result"
    }
   ],
   "source": [
    "# remove \"object\"-type features and SalesPrice from `X`\n",
    "X = df.select_dtypes(exclude=['object'])\n",
    "X.drop(columns=['SalePrice'], inplace=True)\n",
    "X.head()"
   ]
  },
  {
   "cell_type": "code",
   "execution_count": 25,
   "metadata": {},
   "outputs": [],
   "source": [
    "# Impute null values\n",
    "# X.isna().sum() - LotFrontage 259, MasVnrArea 8, GarageYrBlt 81\n",
    "\n",
    "#LotFrontage - filled with median\n",
    "fill_value = X.LotFrontage.median()\n",
    "X.LotFrontage.fillna(fill_value, inplace=True)"
   ]
  },
  {
   "cell_type": "code",
   "execution_count": 26,
   "metadata": {
    "scrolled": false
   },
   "outputs": [],
   "source": [
    "#MasVnrArea - filled with median\n",
    "fill_value = X.MasVnrArea.median()\n",
    "X.MasVnrArea.fillna(fill_value, inplace=True)"
   ]
  },
  {
   "cell_type": "code",
   "execution_count": 27,
   "metadata": {},
   "outputs": [],
   "source": [
    "#MasVnrArea - filled with YearBuilt\n",
    "X.GarageYrBlt.fillna(X.YearBuilt, inplace=True)"
   ]
  },
  {
   "cell_type": "code",
   "execution_count": 3,
   "metadata": {},
   "outputs": [
    {
     "data": {
      "text/html": [
       "<div>\n",
       "<style scoped>\n",
       "    .dataframe tbody tr th:only-of-type {\n",
       "        vertical-align: middle;\n",
       "    }\n",
       "\n",
       "    .dataframe tbody tr th {\n",
       "        vertical-align: top;\n",
       "    }\n",
       "\n",
       "    .dataframe thead th {\n",
       "        text-align: right;\n",
       "    }\n",
       "</style>\n",
       "<table border=\"1\" class=\"dataframe\">\n",
       "  <thead>\n",
       "    <tr style=\"text-align: right;\">\n",
       "      <th></th>\n",
       "      <th>SalePrice</th>\n",
       "    </tr>\n",
       "  </thead>\n",
       "  <tbody>\n",
       "    <tr>\n",
       "      <th>0</th>\n",
       "      <td>208500</td>\n",
       "    </tr>\n",
       "    <tr>\n",
       "      <th>1</th>\n",
       "      <td>181500</td>\n",
       "    </tr>\n",
       "    <tr>\n",
       "      <th>2</th>\n",
       "      <td>223500</td>\n",
       "    </tr>\n",
       "    <tr>\n",
       "      <th>3</th>\n",
       "      <td>140000</td>\n",
       "    </tr>\n",
       "    <tr>\n",
       "      <th>4</th>\n",
       "      <td>250000</td>\n",
       "    </tr>\n",
       "  </tbody>\n",
       "</table>\n",
       "</div>"
      ],
      "text/plain": [
       "   SalePrice\n",
       "0     208500\n",
       "1     181500\n",
       "2     223500\n",
       "3     140000\n",
       "4     250000"
      ]
     },
     "execution_count": 3,
     "metadata": {},
     "output_type": "execute_result"
    }
   ],
   "source": [
    "# Create y\n",
    "y = df[['SalePrice']]"
   ]
  },
  {
   "cell_type": "markdown",
   "metadata": {},
   "source": [
    "Look at the information of `X` again"
   ]
  },
  {
   "cell_type": "code",
   "execution_count": 29,
   "metadata": {},
   "outputs": [
    {
     "name": "stdout",
     "output_type": "stream",
     "text": [
      "<class 'pandas.core.frame.DataFrame'>\n",
      "RangeIndex: 1460 entries, 0 to 1459\n",
      "Data columns (total 37 columns):\n",
      "Id               1460 non-null int64\n",
      "MSSubClass       1460 non-null int64\n",
      "LotFrontage      1460 non-null float64\n",
      "LotArea          1460 non-null int64\n",
      "OverallQual      1460 non-null int64\n",
      "OverallCond      1460 non-null int64\n",
      "YearBuilt        1460 non-null int64\n",
      "YearRemodAdd     1460 non-null int64\n",
      "MasVnrArea       1460 non-null float64\n",
      "BsmtFinSF1       1460 non-null int64\n",
      "BsmtFinSF2       1460 non-null int64\n",
      "BsmtUnfSF        1460 non-null int64\n",
      "TotalBsmtSF      1460 non-null int64\n",
      "1stFlrSF         1460 non-null int64\n",
      "2ndFlrSF         1460 non-null int64\n",
      "LowQualFinSF     1460 non-null int64\n",
      "GrLivArea        1460 non-null int64\n",
      "BsmtFullBath     1460 non-null int64\n",
      "BsmtHalfBath     1460 non-null int64\n",
      "FullBath         1460 non-null int64\n",
      "HalfBath         1460 non-null int64\n",
      "BedroomAbvGr     1460 non-null int64\n",
      "KitchenAbvGr     1460 non-null int64\n",
      "TotRmsAbvGrd     1460 non-null int64\n",
      "Fireplaces       1460 non-null int64\n",
      "GarageYrBlt      1460 non-null float64\n",
      "GarageCars       1460 non-null int64\n",
      "GarageArea       1460 non-null int64\n",
      "WoodDeckSF       1460 non-null int64\n",
      "OpenPorchSF      1460 non-null int64\n",
      "EnclosedPorch    1460 non-null int64\n",
      "3SsnPorch        1460 non-null int64\n",
      "ScreenPorch      1460 non-null int64\n",
      "PoolArea         1460 non-null int64\n",
      "MiscVal          1460 non-null int64\n",
      "MoSold           1460 non-null int64\n",
      "YrSold           1460 non-null int64\n",
      "dtypes: float64(3), int64(34)\n",
      "memory usage: 422.1 KB\n"
     ]
    }
   ],
   "source": [
    "X.info()"
   ]
  },
  {
   "cell_type": "markdown",
   "metadata": {},
   "source": [
    "## Let's use this data to perform a first naive linear regression model"
   ]
  },
  {
   "cell_type": "markdown",
   "metadata": {},
   "source": [
    "Compute the R squared and the MSE for both train and test set."
   ]
  },
  {
   "cell_type": "code",
   "execution_count": 71,
   "metadata": {},
   "outputs": [],
   "source": [
    "from sklearn.metrics import mean_squared_error, mean_squared_log_error, r2_score\n",
    "from sklearn.model_selection import train_test_split\n",
    "\n",
    "linreg = LinearRegression()"
   ]
  },
  {
   "cell_type": "code",
   "execution_count": 72,
   "metadata": {},
   "outputs": [],
   "source": [
    "# Split in train and test\n",
    "X_train,X_test, y_train, y_test = train_test_split(X,y,test_size=0.2)"
   ]
  },
  {
   "cell_type": "code",
   "execution_count": 73,
   "metadata": {},
   "outputs": [
    {
     "data": {
      "text/plain": [
       "(1168, 37)"
      ]
     },
     "execution_count": 73,
     "metadata": {},
     "output_type": "execute_result"
    }
   ],
   "source": [
    "X_train.shape"
   ]
  },
  {
   "cell_type": "code",
   "execution_count": 74,
   "metadata": {},
   "outputs": [
    {
     "name": "stdout",
     "output_type": "stream",
     "text": [
      "TRAIN:\n",
      "MS Error     =  1220316777.5885172\n",
      "R-Squared    =  0.8080458497901669\n",
      "\n",
      "\n",
      "TEST:\n",
      "MS Error     =  1139323108.6159625\n",
      "R-Squared    =  0.8128621599979603\n"
     ]
    }
   ],
   "source": [
    "# Fit the model and print R2 and MSE for train and test\n",
    "\n",
    "#TRAIN\n",
    "linreg.fit(X_train,y_train)\n",
    "MSE = mean_squared_error(y_train,linreg.predict(X_train))\n",
    "r2 = r2_score(y_train,linreg.predict(X_train))\n",
    "print(\"TRAIN:\")\n",
    "print(\"MS Error     = \",MSE)\n",
    "print(\"R-Squared    = \",r2)\n",
    "print(\"\\n\")\n",
    "\n",
    "#TEST\n",
    "MSE = mean_squared_error(y_test,linreg.predict(X_test))\n",
    "r2 = r2_score(y_test,linreg.predict(X_test))\n",
    "print(\"TEST:\")\n",
    "print(\"MS Error     = \",MSE)\n",
    "print(\"R-Squared    = \",r2)"
   ]
  },
  {
   "cell_type": "markdown",
   "metadata": {},
   "source": [
    "## Normalize your data"
   ]
  },
  {
   "cell_type": "markdown",
   "metadata": {},
   "source": [
    "We haven't normalized our data, let's create a new model that uses `preprocessing.scale` to scale our predictors!"
   ]
  },
  {
   "cell_type": "code",
   "execution_count": 75,
   "metadata": {},
   "outputs": [],
   "source": [
    "from sklearn import preprocessing"
   ]
  },
  {
   "cell_type": "code",
   "execution_count": 76,
   "metadata": {
    "scrolled": true
   },
   "outputs": [
    {
     "data": {
      "text/html": [
       "<div>\n",
       "<style scoped>\n",
       "    .dataframe tbody tr th:only-of-type {\n",
       "        vertical-align: middle;\n",
       "    }\n",
       "\n",
       "    .dataframe tbody tr th {\n",
       "        vertical-align: top;\n",
       "    }\n",
       "\n",
       "    .dataframe thead th {\n",
       "        text-align: right;\n",
       "    }\n",
       "</style>\n",
       "<table border=\"1\" class=\"dataframe\">\n",
       "  <thead>\n",
       "    <tr style=\"text-align: right;\">\n",
       "      <th></th>\n",
       "      <th>Id</th>\n",
       "      <th>MSSubClass</th>\n",
       "      <th>LotFrontage</th>\n",
       "      <th>LotArea</th>\n",
       "      <th>OverallQual</th>\n",
       "      <th>OverallCond</th>\n",
       "      <th>YearBuilt</th>\n",
       "      <th>YearRemodAdd</th>\n",
       "      <th>MasVnrArea</th>\n",
       "      <th>BsmtFinSF1</th>\n",
       "      <th>...</th>\n",
       "      <th>GarageArea</th>\n",
       "      <th>WoodDeckSF</th>\n",
       "      <th>OpenPorchSF</th>\n",
       "      <th>EnclosedPorch</th>\n",
       "      <th>3SsnPorch</th>\n",
       "      <th>ScreenPorch</th>\n",
       "      <th>PoolArea</th>\n",
       "      <th>MiscVal</th>\n",
       "      <th>MoSold</th>\n",
       "      <th>YrSold</th>\n",
       "    </tr>\n",
       "  </thead>\n",
       "  <tbody>\n",
       "    <tr>\n",
       "      <th>0</th>\n",
       "      <td>-1.730865</td>\n",
       "      <td>0.073375</td>\n",
       "      <td>-0.220875</td>\n",
       "      <td>-0.207142</td>\n",
       "      <td>0.651479</td>\n",
       "      <td>-0.517200</td>\n",
       "      <td>1.050994</td>\n",
       "      <td>0.878668</td>\n",
       "      <td>0.514104</td>\n",
       "      <td>0.575425</td>\n",
       "      <td>...</td>\n",
       "      <td>0.351000</td>\n",
       "      <td>-0.752176</td>\n",
       "      <td>0.216503</td>\n",
       "      <td>-0.359325</td>\n",
       "      <td>-0.116339</td>\n",
       "      <td>-0.270208</td>\n",
       "      <td>-0.068692</td>\n",
       "      <td>-0.087688</td>\n",
       "      <td>-1.599111</td>\n",
       "      <td>0.138777</td>\n",
       "    </tr>\n",
       "    <tr>\n",
       "      <th>1</th>\n",
       "      <td>-1.728492</td>\n",
       "      <td>-0.872563</td>\n",
       "      <td>0.460320</td>\n",
       "      <td>-0.091886</td>\n",
       "      <td>-0.071836</td>\n",
       "      <td>2.179628</td>\n",
       "      <td>0.156734</td>\n",
       "      <td>-0.429577</td>\n",
       "      <td>-0.570750</td>\n",
       "      <td>1.171992</td>\n",
       "      <td>...</td>\n",
       "      <td>-0.060731</td>\n",
       "      <td>1.626195</td>\n",
       "      <td>-0.704483</td>\n",
       "      <td>-0.359325</td>\n",
       "      <td>-0.116339</td>\n",
       "      <td>-0.270208</td>\n",
       "      <td>-0.068692</td>\n",
       "      <td>-0.087688</td>\n",
       "      <td>-0.489110</td>\n",
       "      <td>-0.614439</td>\n",
       "    </tr>\n",
       "    <tr>\n",
       "      <th>2</th>\n",
       "      <td>-1.726120</td>\n",
       "      <td>0.073375</td>\n",
       "      <td>-0.084636</td>\n",
       "      <td>0.073480</td>\n",
       "      <td>0.651479</td>\n",
       "      <td>-0.517200</td>\n",
       "      <td>0.984752</td>\n",
       "      <td>0.830215</td>\n",
       "      <td>0.325915</td>\n",
       "      <td>0.092907</td>\n",
       "      <td>...</td>\n",
       "      <td>0.631726</td>\n",
       "      <td>-0.752176</td>\n",
       "      <td>-0.070361</td>\n",
       "      <td>-0.359325</td>\n",
       "      <td>-0.116339</td>\n",
       "      <td>-0.270208</td>\n",
       "      <td>-0.068692</td>\n",
       "      <td>-0.087688</td>\n",
       "      <td>0.990891</td>\n",
       "      <td>0.138777</td>\n",
       "    </tr>\n",
       "    <tr>\n",
       "      <th>3</th>\n",
       "      <td>-1.723747</td>\n",
       "      <td>0.309859</td>\n",
       "      <td>-0.447940</td>\n",
       "      <td>-0.096897</td>\n",
       "      <td>0.651479</td>\n",
       "      <td>-0.517200</td>\n",
       "      <td>-1.863632</td>\n",
       "      <td>-0.720298</td>\n",
       "      <td>-0.570750</td>\n",
       "      <td>-0.499274</td>\n",
       "      <td>...</td>\n",
       "      <td>0.790804</td>\n",
       "      <td>-0.752176</td>\n",
       "      <td>-0.176048</td>\n",
       "      <td>4.092524</td>\n",
       "      <td>-0.116339</td>\n",
       "      <td>-0.270208</td>\n",
       "      <td>-0.068692</td>\n",
       "      <td>-0.087688</td>\n",
       "      <td>-1.599111</td>\n",
       "      <td>-1.367655</td>\n",
       "    </tr>\n",
       "    <tr>\n",
       "      <th>4</th>\n",
       "      <td>-1.721374</td>\n",
       "      <td>0.073375</td>\n",
       "      <td>0.641972</td>\n",
       "      <td>0.375148</td>\n",
       "      <td>1.374795</td>\n",
       "      <td>-0.517200</td>\n",
       "      <td>0.951632</td>\n",
       "      <td>0.733308</td>\n",
       "      <td>1.366489</td>\n",
       "      <td>0.463568</td>\n",
       "      <td>...</td>\n",
       "      <td>1.698485</td>\n",
       "      <td>0.780197</td>\n",
       "      <td>0.563760</td>\n",
       "      <td>-0.359325</td>\n",
       "      <td>-0.116339</td>\n",
       "      <td>-0.270208</td>\n",
       "      <td>-0.068692</td>\n",
       "      <td>-0.087688</td>\n",
       "      <td>2.100892</td>\n",
       "      <td>0.138777</td>\n",
       "    </tr>\n",
       "  </tbody>\n",
       "</table>\n",
       "<p>5 rows × 37 columns</p>\n",
       "</div>"
      ],
      "text/plain": [
       "         Id  MSSubClass  LotFrontage   LotArea  OverallQual  OverallCond  \\\n",
       "0 -1.730865    0.073375    -0.220875 -0.207142     0.651479    -0.517200   \n",
       "1 -1.728492   -0.872563     0.460320 -0.091886    -0.071836     2.179628   \n",
       "2 -1.726120    0.073375    -0.084636  0.073480     0.651479    -0.517200   \n",
       "3 -1.723747    0.309859    -0.447940 -0.096897     0.651479    -0.517200   \n",
       "4 -1.721374    0.073375     0.641972  0.375148     1.374795    -0.517200   \n",
       "\n",
       "   YearBuilt  YearRemodAdd  MasVnrArea  BsmtFinSF1    ...     GarageArea  \\\n",
       "0   1.050994      0.878668    0.514104    0.575425    ...       0.351000   \n",
       "1   0.156734     -0.429577   -0.570750    1.171992    ...      -0.060731   \n",
       "2   0.984752      0.830215    0.325915    0.092907    ...       0.631726   \n",
       "3  -1.863632     -0.720298   -0.570750   -0.499274    ...       0.790804   \n",
       "4   0.951632      0.733308    1.366489    0.463568    ...       1.698485   \n",
       "\n",
       "   WoodDeckSF  OpenPorchSF  EnclosedPorch  3SsnPorch  ScreenPorch  PoolArea  \\\n",
       "0   -0.752176     0.216503      -0.359325  -0.116339    -0.270208 -0.068692   \n",
       "1    1.626195    -0.704483      -0.359325  -0.116339    -0.270208 -0.068692   \n",
       "2   -0.752176    -0.070361      -0.359325  -0.116339    -0.270208 -0.068692   \n",
       "3   -0.752176    -0.176048       4.092524  -0.116339    -0.270208 -0.068692   \n",
       "4    0.780197     0.563760      -0.359325  -0.116339    -0.270208 -0.068692   \n",
       "\n",
       "    MiscVal    MoSold    YrSold  \n",
       "0 -0.087688 -1.599111  0.138777  \n",
       "1 -0.087688 -0.489110 -0.614439  \n",
       "2 -0.087688  0.990891  0.138777  \n",
       "3 -0.087688 -1.599111 -1.367655  \n",
       "4 -0.087688  2.100892  0.138777  \n",
       "\n",
       "[5 rows x 37 columns]"
      ]
     },
     "execution_count": 76,
     "metadata": {},
     "output_type": "execute_result"
    }
   ],
   "source": [
    "# Scale the data\n",
    "X_scaled = pd.DataFrame(preprocessing.scale(X), columns=X.columns)\n",
    "X_scaled.head()"
   ]
  },
  {
   "cell_type": "code",
   "execution_count": 77,
   "metadata": {},
   "outputs": [],
   "source": [
    "# Perform train test split\n",
    "X_train,X_test, y_train, y_test = train_test_split(X_scaled,y,test_size=0.2)"
   ]
  },
  {
   "cell_type": "markdown",
   "metadata": {},
   "source": [
    "Perform the same linear regression on this data and print out R-squared and MSE."
   ]
  },
  {
   "cell_type": "code",
   "execution_count": 78,
   "metadata": {},
   "outputs": [
    {
     "name": "stdout",
     "output_type": "stream",
     "text": [
      "TRAIN:\n",
      "MS Error     =  1224894222.1083097\n",
      "R-Squared    =  0.8005777395393985\n",
      "\n",
      "\n",
      "TEST:\n",
      "MS Error     =  1087134422.0244868\n",
      "R-Squared    =  0.8435072247240962\n"
     ]
    }
   ],
   "source": [
    "# Your code here\n",
    "#TRAIN\n",
    "linreg.fit(X_train,y_train)\n",
    "MSE = mean_squared_error(y_train,linreg.predict(X_train))\n",
    "r2 = r2_score(y_train,linreg.predict(X_train))\n",
    "print(\"TRAIN:\")\n",
    "print(\"MS Error     = \",MSE)\n",
    "print(\"R-Squared    = \",r2)\n",
    "print(\"\\n\")\n",
    "\n",
    "#TEST\n",
    "MSE = mean_squared_error(y_test,linreg.predict(X_test))\n",
    "r2 = r2_score(y_test,linreg.predict(X_test))\n",
    "print(\"TEST:\")\n",
    "print(\"MS Error     = \",MSE)\n",
    "print(\"R-Squared    = \",r2)"
   ]
  },
  {
   "cell_type": "markdown",
   "metadata": {},
   "source": [
    "## Include dummy variables"
   ]
  },
  {
   "cell_type": "markdown",
   "metadata": {},
   "source": [
    "Your model hasn't included dummy variables so far: let's use the \"object\" variables again and create dummies"
   ]
  },
  {
   "cell_type": "code",
   "execution_count": 79,
   "metadata": {},
   "outputs": [],
   "source": [
    "# Create X_cat which contains only the categorical variables\n",
    "X_cat = df.select_dtypes(include=['object'])"
   ]
  },
  {
   "cell_type": "code",
   "execution_count": 80,
   "metadata": {},
   "outputs": [],
   "source": [
    "# Make dummies\n",
    "X_cat = pd.get_dummies(X_cat)"
   ]
  },
  {
   "cell_type": "markdown",
   "metadata": {},
   "source": [
    "Merge `x_cat` together with our scaled `X` so you have one big predictor dataframe."
   ]
  },
  {
   "cell_type": "code",
   "execution_count": 81,
   "metadata": {},
   "outputs": [],
   "source": [
    "# Your code here\n",
    "X_merged = pd.concat([X_scaled,X_cat],axis=1)"
   ]
  },
  {
   "cell_type": "markdown",
   "metadata": {},
   "source": [
    "Perform the same linear regression on this data and print out R-squared and MSE."
   ]
  },
  {
   "cell_type": "code",
   "execution_count": 82,
   "metadata": {},
   "outputs": [
    {
     "name": "stdout",
     "output_type": "stream",
     "text": [
      "TRAIN:\n",
      "MS Error     =  498297575.50045663\n",
      "R-Squared    =  0.91346051954118\n",
      "\n",
      "\n",
      "TEST:\n",
      "MS Error     =  2.317420353954219e+31\n",
      "R-Squared    =  -2.9381300059568524e+21\n"
     ]
    }
   ],
   "source": [
    "# Your code here\n",
    "# Perform train test split\n",
    "X_train, X_test, y_train, y_test = train_test_split(X_merged,y)\n",
    "\n",
    "#TRAIN\n",
    "linreg.fit(X_train,y_train)\n",
    "MSE = mean_squared_error(y_train,linreg.predict(X_train))\n",
    "r2 = r2_score(y_train,linreg.predict(X_train))\n",
    "print(\"TRAIN:\")\n",
    "print(\"MS Error     = \",MSE)\n",
    "print(\"R-Squared    = \",r2)\n",
    "print(\"\\n\")\n",
    "\n",
    "#TEST\n",
    "MSE = mean_squared_error(y_test,linreg.predict(X_test))\n",
    "r2 = r2_score(y_test,linreg.predict(X_test))\n",
    "print(\"TEST:\")\n",
    "print(\"MS Error     = \",MSE)\n",
    "print(\"R-Squared    = \",r2)"
   ]
  },
  {
   "cell_type": "markdown",
   "metadata": {},
   "source": [
    "Notice the severe overfitting above; our training R squared is quite high, but the testing R squared is negative! Our predictions are far off. Similarly, the scale of the Testing MSE is orders of magnitude higher than that of the training."
   ]
  },
  {
   "cell_type": "markdown",
   "metadata": {},
   "source": [
    "## Perform Ridge and Lasso regression"
   ]
  },
  {
   "cell_type": "markdown",
   "metadata": {},
   "source": [
    "Use all the data (normalized features and dummy categorical variables) and perform Lasso and Ridge regression for both! Each time, look at R-squared and MSE."
   ]
  },
  {
   "cell_type": "markdown",
   "metadata": {},
   "source": [
    "## Lasso"
   ]
  },
  {
   "cell_type": "markdown",
   "metadata": {},
   "source": [
    "With default parameter (alpha = 1)"
   ]
  },
  {
   "cell_type": "code",
   "execution_count": 83,
   "metadata": {},
   "outputs": [],
   "source": [
    "from sklearn.linear_model import Lasso, Ridge"
   ]
  },
  {
   "cell_type": "code",
   "execution_count": 84,
   "metadata": {},
   "outputs": [
    {
     "name": "stdout",
     "output_type": "stream",
     "text": [
      "TRAIN:\n",
      "MS Error     =  364850082.19211596\n",
      "R-Squared    =  0.9366363833366984\n",
      "\n",
      "\n",
      "TEST:\n",
      "MS Error     =  2063729192.960726\n",
      "R-Squared    =  0.7383511085651397\n"
     ]
    }
   ],
   "source": [
    "# Your code here\n",
    "lasso = Lasso()\n",
    "lasso.fit(X_train,y_train)\n",
    "\n",
    "#TRAIN\n",
    "MSE = mean_squared_error(y_train,lasso.predict(X_train))\n",
    "r2 = r2_score(y_train,lasso.predict(X_train))\n",
    "print(\"TRAIN:\")\n",
    "print(\"MS Error     = \",MSE)\n",
    "print(\"R-Squared    = \",r2)\n",
    "print(\"\\n\")\n",
    "\n",
    "#TEST\n",
    "MSE = mean_squared_error(y_test,lasso.predict(X_test))\n",
    "r2 = r2_score(y_test,lasso.predict(X_test))\n",
    "print(\"TEST:\")\n",
    "print(\"MS Error     = \",MSE)\n",
    "print(\"R-Squared    = \",r2)"
   ]
  },
  {
   "cell_type": "markdown",
   "metadata": {},
   "source": [
    "With a higher regularization parameter (alpha = 10)"
   ]
  },
  {
   "cell_type": "code",
   "execution_count": 85,
   "metadata": {},
   "outputs": [
    {
     "name": "stdout",
     "output_type": "stream",
     "text": [
      "TRAIN:\n",
      "MS Error     =  372926651.4961665\n",
      "R-Squared    =  0.9352337232680432\n",
      "\n",
      "\n",
      "TEST:\n",
      "MS Error     =  1946364400.4451706\n",
      "R-Squared    =  0.7532311461010346\n"
     ]
    }
   ],
   "source": [
    "# Your code here\n",
    "lasso = Lasso(alpha=10)\n",
    "lasso.fit(X_train,y_train)\n",
    "\n",
    "#TRAIN\n",
    "MSE = mean_squared_error(y_train,lasso.predict(X_train))\n",
    "r2 = r2_score(y_train,lasso.predict(X_train))\n",
    "print(\"TRAIN:\")\n",
    "print(\"MS Error     = \",MSE)\n",
    "print(\"R-Squared    = \",r2)\n",
    "print(\"\\n\")\n",
    "\n",
    "#TEST\n",
    "MSE = mean_squared_error(y_test,lasso.predict(X_test))\n",
    "r2 = r2_score(y_test,lasso.predict(X_test))\n",
    "print(\"TEST:\")\n",
    "print(\"MS Error     = \",MSE)\n",
    "print(\"R-Squared    = \",r2)"
   ]
  },
  {
   "cell_type": "markdown",
   "metadata": {},
   "source": [
    "## Ridge"
   ]
  },
  {
   "cell_type": "markdown",
   "metadata": {},
   "source": [
    "With default parameter (alpha = 1)"
   ]
  },
  {
   "cell_type": "code",
   "execution_count": 87,
   "metadata": {},
   "outputs": [
    {
     "name": "stdout",
     "output_type": "stream",
     "text": [
      "TRAIN:\n",
      "MS Error     =  382574769.837574\n",
      "R-Squared    =  0.933558131834888\n",
      "\n",
      "\n",
      "TEST:\n",
      "MS Error     =  1920139724.5348632\n",
      "R-Squared    =  0.7565560287472535\n"
     ]
    }
   ],
   "source": [
    "# Your code here\n",
    "ridge = Ridge()\n",
    "ridge.fit(X_train,y_train)\n",
    "\n",
    "#TRAIN\n",
    "MSE = mean_squared_error(y_train,ridge.predict(X_train))\n",
    "r2 = r2_score(y_train,ridge.predict(X_train))\n",
    "print(\"TRAIN:\")\n",
    "print(\"MS Error     = \",MSE)\n",
    "print(\"R-Squared    = \",r2)\n",
    "print(\"\\n\")\n",
    "\n",
    "#TEST\n",
    "MSE = mean_squared_error(y_test,ridge.predict(X_test))\n",
    "r2 = r2_score(y_test,ridge.predict(X_test))\n",
    "print(\"TEST:\")\n",
    "print(\"MS Error     = \",MSE)\n",
    "print(\"R-Squared    = \",r2)"
   ]
  },
  {
   "cell_type": "markdown",
   "metadata": {},
   "source": [
    "With default parameter (alpha = 10)"
   ]
  },
  {
   "cell_type": "code",
   "execution_count": 88,
   "metadata": {},
   "outputs": [
    {
     "name": "stdout",
     "output_type": "stream",
     "text": [
      "TRAIN:\n",
      "MS Error     =  453576837.2557231\n",
      "R-Squared    =  0.9212271827635472\n",
      "\n",
      "\n",
      "TEST:\n",
      "MS Error     =  1795402351.750887\n",
      "R-Squared    =  0.7723707952489576\n"
     ]
    }
   ],
   "source": [
    "# Your code here\n",
    "ridge = Ridge(alpha=10)\n",
    "ridge.fit(X_train,y_train)\n",
    "\n",
    "#TRAIN\n",
    "MSE = mean_squared_error(y_train,ridge.predict(X_train))\n",
    "r2 = r2_score(y_train,ridge.predict(X_train))\n",
    "print(\"TRAIN:\")\n",
    "print(\"MS Error     = \",MSE)\n",
    "print(\"R-Squared    = \",r2)\n",
    "print(\"\\n\")\n",
    "\n",
    "#TEST\n",
    "MSE = mean_squared_error(y_test,ridge.predict(X_test))\n",
    "r2 = r2_score(y_test,ridge.predict(X_test))\n",
    "print(\"TEST:\")\n",
    "print(\"MS Error     = \",MSE)\n",
    "print(\"R-Squared    = \",r2)"
   ]
  },
  {
   "cell_type": "markdown",
   "metadata": {},
   "source": [
    "## Look at the metrics, what are your main conclusions?   \n",
    "\n",
    "Ridge and Lasso both performed much better on the test set."
   ]
  },
  {
   "cell_type": "markdown",
   "metadata": {},
   "source": [
    "## Compare number of parameter estimates that are (very close to) 0 for Ridge and Lasso"
   ]
  },
  {
   "cell_type": "markdown",
   "metadata": {},
   "source": [
    "Compare with the total length of the parameter space and draw conclusions!"
   ]
  },
  {
   "cell_type": "code",
   "execution_count": 113,
   "metadata": {},
   "outputs": [
    {
     "data": {
      "text/plain": [
       "4"
      ]
     },
     "execution_count": 113,
     "metadata": {},
     "output_type": "execute_result"
    }
   ],
   "source": [
    "# number of Ridge params almost zero\n",
    "sum(sum(abs(ridge.coef_) < 10**(-10)))"
   ]
  },
  {
   "cell_type": "code",
   "execution_count": 111,
   "metadata": {},
   "outputs": [
    {
     "data": {
      "text/plain": [
       "69"
      ]
     },
     "execution_count": 111,
     "metadata": {},
     "output_type": "execute_result"
    }
   ],
   "source": [
    "# number of Lasso params almost zero\n",
    "sum(abs(lasso.coef_) < 10**(-10))"
   ]
  },
  {
   "cell_type": "markdown",
   "metadata": {},
   "source": [
    "Lasso was very effective to essentially perform variable selection and remove about 25% of the variables from your model!"
   ]
  },
  {
   "cell_type": "code",
   "execution_count": 118,
   "metadata": {},
   "outputs": [
    {
     "name": "stdout",
     "output_type": "stream",
     "text": [
      "$ removed using Lasso:\n"
     ]
    },
    {
     "data": {
      "text/plain": [
       "0.23875432525951557"
      ]
     },
     "execution_count": 118,
     "metadata": {},
     "output_type": "execute_result"
    }
   ],
   "source": [
    "# your code here\n",
    "print(\"$ removed using Lasso:\")\n",
    "sum(abs(lasso.coef_) < 10**(-10))/len(lasso.coef_)"
   ]
  },
  {
   "cell_type": "markdown",
   "metadata": {},
   "source": [
    "## Summary"
   ]
  },
  {
   "cell_type": "markdown",
   "metadata": {},
   "source": [
    "Great! You now know how to perform Lasso and Ridge regression."
   ]
  }
 ],
 "metadata": {
  "kernelspec": {
   "display_name": "Python 3",
   "language": "python",
   "name": "python3"
  },
  "language_info": {
   "codemirror_mode": {
    "name": "ipython",
    "version": 3
   },
   "file_extension": ".py",
   "mimetype": "text/x-python",
   "name": "python",
   "nbconvert_exporter": "python",
   "pygments_lexer": "ipython3",
   "version": "3.6.6"
  }
 },
 "nbformat": 4,
 "nbformat_minor": 2
}
